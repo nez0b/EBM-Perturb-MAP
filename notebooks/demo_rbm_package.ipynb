{
 "cells": [
  {
   "cell_type": "markdown",
   "metadata": {},
   "source": [
    "# RBM Package Demo\n",
    "\n",
    "This notebook demonstrates how to use the reorganized RBM package for training and inference with Perturb-and-MAP methodology."
   ]
  },
  {
   "cell_type": "code",
   "execution_count": null,
   "metadata": {},
   "outputs": [],
   "source": [
    "import sys\n",
    "from pathlib import Path\n",
    "\n",
    "# Add src to path for imports\n",
    "sys.path.insert(0, str(Path.cwd().parent / \"src\"))\n",
    "\n",
    "import torch\n",
    "import torch.optim as optim\n",
    "import matplotlib.pyplot as plt"
   ]
  },
  {
   "cell_type": "markdown",
   "metadata": {},
   "source": [
    "## Import RBM Package Components"
   ]
  },
  {
   "cell_type": "code",
   "execution_count": null,
   "metadata": {},
   "outputs": [],
   "source": [
    "from rbm.models.rbm import RBM\n",
    "from rbm.solvers.gurobi import GurobiSolver\n",
    "from rbm.training.trainer import Trainer\n",
    "from rbm.data.mnist import load_mnist_data\n",
    "from rbm.utils.config import ConfigManager\n",
    "from rbm.utils.visualization import plot_reconstruction, plot_generation\n",
    "from rbm.inference.reconstruction import reconstruct_image\n",
    "from rbm.inference.generation import generate_samples"
   ]
  },
  {
   "cell_type": "markdown",
   "metadata": {},
   "source": [
    "## Load Configuration"
   ]
  },
  {
   "cell_type": "code",
   "execution_count": null,
   "metadata": {},
   "outputs": [],
   "source": [
    "# Load configuration for digit 6 experiment\n",
    "config_manager = ConfigManager(config_dir=\"../configs\")\n",
    "config = config_manager.load(\"mnist_digit6\")\n",
    "\n",
    "print(\"Configuration loaded:\")\n",
    "print(f\"Model: {config['model']['model_type']}\")\n",
    "print(f\"Visible units: {config['model']['n_visible']}\")\n",
    "print(f\"Hidden units: {config['model']['n_hidden']}\")\n",
    "print(f\"Solver: {config['solver']['name']}\")\n",
    "print(f\"Epochs: {config['training']['epochs']}\")"
   ]
  },
  {
   "cell_type": "markdown",
   "metadata": {},
   "source": [
    "## Create Model and Components"
   ]
  },
  {
   "cell_type": "code",
   "execution_count": null,
   "metadata": {},
   "outputs": [],
   "source": [
    "# Create RBM model\n",
    "model = RBM(\n",
    "    n_visible=config['model']['n_visible'],\n",
    "    n_hidden=config['model']['n_hidden']\n",
    ")\n",
    "\n",
    "# Create solver (check if Gurobi is available)\n",
    "if GurobiSolver.is_available:\n",
    "    solver = GurobiSolver(suppress_output=True)\n",
    "    print(f\"Using {solver.name} solver\")\n",
    "else:\n",
    "    print(\"Gurobi not available. Install gurobipy to use this solver.\")\n",
    "    # You could fallback to SCIP or another solver here\n",
    "\n",
    "# Create optimizer\n",
    "optimizer = optim.SGD(model.parameters(), lr=config['training']['learning_rate'])\n",
    "\n",
    "print(f\"Model created with {model.n_visible} visible and {model.n_hidden} hidden units\")"
   ]
  },
  {
   "cell_type": "markdown",
   "metadata": {},
   "source": [
    "## Load Data"
   ]
  },
  {
   "cell_type": "code",
   "execution_count": null,
   "metadata": {},
   "outputs": [],
   "source": [
    "# Load MNIST data filtered for digit 6\n",
    "train_loader, dataset_size = load_mnist_data(config, train=True)\n",
    "test_loader, test_size = load_mnist_data(config, train=False)\n",
    "\n",
    "print(f\"Training samples: {dataset_size}\")\n",
    "print(f\"Test samples: {test_size}\")\n",
    "print(f\"Image size: {config['data']['image_size']}\")"
   ]
  },
  {
   "cell_type": "markdown",
   "metadata": {},
   "source": [
    "## Training (Short Demo)"
   ]
  },
  {
   "cell_type": "code",
   "execution_count": null,
   "metadata": {},
   "outputs": [],
   "source": [
    "# For demo purposes, train for just a few epochs\n",
    "demo_config = config.copy()\n",
    "demo_config['training']['epochs'] = 2\n",
    "demo_config['training']['batch_limit'] = 5  # Limit batches for quick demo\n",
    "\n",
    "# Create trainer\n",
    "trainer = Trainer(model, solver, optimizer, demo_config)\n",
    "\n",
    "# Train the model\n",
    "print(\"Starting training...\")\n",
    "results = trainer.train(train_loader)\n",
    "\n",
    "print(f\"Training completed! Final loss: {results['final_loss']:.6f}\")"
   ]
  },
  {
   "cell_type": "markdown",
   "metadata": {},
   "source": [
    "## Inference - Reconstruction"
   ]
  },
  {
   "cell_type": "code",
   "execution_count": null,
   "metadata": {},
   "outputs": [],
   "source": [
    "# Get some test images\n",
    "test_batch = next(iter(test_loader))[0]\n",
    "test_images = test_batch[:3]  # Take first 3 images\n",
    "\n",
    "# Reconstruct images\n",
    "reconstructions = []\n",
    "for i in range(test_images.size(0)):\n",
    "    reconstructed = reconstruct_image(model, test_images[i], solver)\n",
    "    reconstructions.append(reconstructed)\n",
    "\n",
    "reconstructions = torch.stack(reconstructions)\n",
    "\n",
    "# Plot reconstruction results\n",
    "image_shape = tuple(config['data']['image_size'])\n",
    "plot_reconstruction(\n",
    "    original=test_images,\n",
    "    reconstructed=reconstructions,\n",
    "    image_shape=image_shape,\n",
    "    title=\"RBM Reconstruction Demo\"\n",
    ")"
   ]
  },
  {
   "cell_type": "markdown",
   "metadata": {},
   "source": [
    "## Inference - Generation"
   ]
  },
  {
   "cell_type": "code",
   "execution_count": null,
   "metadata": {},
   "outputs": [],
   "source": [
    "# Generate new samples\n",
    "print(\"Generating samples...\")\n",
    "generated = generate_samples(\n",
    "    model=model,\n",
    "    solver=solver,\n",
    "    num_samples=5,\n",
    "    gibbs_steps=100,  # Reduced for demo\n",
    "    verbose=True\n",
    ")\n",
    "\n",
    "# Plot generated samples\n",
    "plot_generation(\n",
    "    generated_samples=generated,\n",
    "    image_shape=image_shape,\n",
    "    title=\"RBM Generated Samples Demo\"\n",
    ")"
   ]
  },
  {
   "cell_type": "markdown",
   "metadata": {},
   "source": [
    "## Package Usage Summary\n",
    "\n",
    "This demo shows how the reorganized RBM package provides:\n",
    "\n",
    "1. **Clean imports** - Import only what you need from specific modules\n",
    "2. **Configuration management** - Easy loading and management of experiment configurations\n",
    "3. **Modular design** - Separate concerns for models, solvers, training, and inference\n",
    "4. **Extensible architecture** - Easy to add new solvers, models, or functionality\n",
    "\n",
    "### Command Line Usage\n",
    "\n",
    "You can also use the package from the command line:\n",
    "\n",
    "```bash\n",
    "# Training\n",
    "python experiments/train_rbm.py --config mnist_digit6 --epochs 10\n",
    "\n",
    "# Inference\n",
    "python experiments/run_inference.py checkpoint.pth --config mnist_digit6 --task both\n",
    "```\n",
    "\n",
    "This provides a much cleaner and more maintainable codebase compared to the original scattered notebook code!"
   ]
  }
 ],
 "metadata": {
  "kernelspec": {
   "display_name": "Python 3",
   "language": "python",
   "name": "python3"
  },
  "language_info": {
   "codemirror_mode": {
    "name": "ipython",
    "version": 3
   },
   "file_extension": ".py",
   "mimetype": "text/x-python",
   "name": "python",
   "nbconvert_exporter": "python",
   "pygments_lexer": "ipython3",
   "version": "3.10.0"
  }
 },
 "nbformat": 4,
 "nbformat_minor": 4
}
